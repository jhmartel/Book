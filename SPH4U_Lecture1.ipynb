{
  "nbformat": 4,
  "nbformat_minor": 0,
  "metadata": {
    "colab": {
      "provenance": []
    },
    "kernelspec": {
      "name": "python3",
      "display_name": "Python 3"
    },
    "language_info": {
      "name": "python"
    }
  },
  "cells": [
    {
      "cell_type": "markdown",
      "source": [],
      "metadata": {
        "id": "-LAiPLKXmWmW"
      }
    },
    {
      "cell_type": "markdown",
      "source": [
        "# Lecture 1 (Two Hours)\n",
        "\n",
        "Welcome to Physics 12 University Preparation! "
      ],
      "metadata": {
        "id": "4siIBSXumWiC"
      }
    },
    {
      "cell_type": "code",
      "execution_count": null,
      "metadata": {
        "id": "v952jXYSmTFN"
      },
      "outputs": [],
      "source": []
    }
  ]
}